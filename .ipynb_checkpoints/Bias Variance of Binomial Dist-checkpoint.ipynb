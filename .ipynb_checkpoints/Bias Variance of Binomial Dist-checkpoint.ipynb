{
 "cells": [
  {
   "cell_type": "markdown",
   "metadata": {},
   "source": [
    "#  Talking to the Trees:  How to Interpret a Decision Forest\n",
    "\n",
    "## Eric Hullander\n",
    "\n",
    "<figure>\n",
    "      <img src = 'https://poetkatehutchinson.files.wordpress.com/2012/09/treebeard1.jpg' >\n",
    "  <figcaption>“Side? I am on nobody's side, because nobody is on my side, little orc.”  - Treebeard</figcaption>\n",
    "</figure>\n",
    "\n",
    "Given a dataset and a target variable, there are many methods for finding a mapping (model) between the dataset and the target variable, and in the discipline of machine learning this process is called ‘supervised learning’.  There are two types of supervised learning, regression when our target is numerical, and classification when our target variable is categorical. Among these, there are many types of learners and each learner has its own set of strengths and weaknesses. Some attributes we would like our learner to have are: \n",
    "\n",
    "#### Qualities of a good Learner\n",
    "\n",
    "-\tInterpretability: Why did the model choose this result?  \n",
    "-\tAccuracy:   \n",
    "    -\tAre the predictions correct?   \n",
    "    -\tDo the results generalize to new data?  \n",
    "-\tEfficiency:   \n",
    "    -\tHow long does it take to train this model?  \n",
    "    -\tDoes it require lots of data  \n",
    "-\tDimensionality:   \n",
    "    -\tRobust to Irrelevancy: Do we have to perform feature selection or reduce dimensionality to obtain a good model?  \n",
    "    -\tRobust to Collinearity: Will collinear variables compromise accuracy or interpretability?  \n",
    "-\tRobust to Scaling:  Will scaling or transforming the data affect the results?  \n",
    "\n",
    "Unfortunately, we cannot always get everything we want, so when choosing a learner we must ask what kind of data we have and what questions we are trying to answer.\n",
    "\n",
    "#### The decision trees have many of these qualities.  [1]\n",
    "\n",
    "- Interpretability: We can see where splits are made \n",
    "- Accuracy: Decision trees are accurate on average (low bias), but highly dependent on the sample (high variance).  So they cannot be trusted on an individual basis\n",
    "- Efficiency:  Greedy algorithm is O(C n log n) where C are number of features and n are number of samples.\n",
    "- Robust to Dimensionality:  Dimensionality does not compromise accuracy\n",
    "- Robust to Irrelevancy: Trees perform automatic feature selection based on GINI impurity or information gain.  Irrelevant features just aren’t used\n",
    "- Robust to Collinearity: If two variables are collinear, the can use one or the other making one of the two unimportant to the model when they are equally important\n",
    "- Robust to Scaling:  Scaling and many transformations e.g. log(x) would not affect where the tree splits if using GINI impurity or information gain.\n",
    "\n"
   ]
  },
  {
   "cell_type": "markdown",
   "metadata": {},
   "source": [
    "<img src = \"http://i.stack.imgur.com/r7QFy.png\" style=\"width:300px;height:300px\">"
   ]
  },
  {
   "cell_type": "markdown",
   "metadata": {},
   "source": [
    "The nice thing about trees are they are low bias on average, the problem with decision trees is that they are highly variable individually.  Looking at the upper right target in Fig. 1, imagine if these points were obtained by building different trees on different subsets Ni of a subset Mk of the data. Then if we just averaged all of the points together, for every point above or left-of-the-target there is another point below or right-of-the-target.  We would be left with a single point near the bullseye.  If we repeated for all k subsets of M, we should obtain a cluster of points very near the bullseye.  We would now have a model that is low bias and low variance.\n"
   ]
  },
  {
   "cell_type": "code",
   "execution_count": 426,
   "metadata": {
    "collapsed": true
   },
   "outputs": [],
   "source": [
    "import numpy as np\n",
    "import matplotlib.pyplot as plt\n",
    "%matplotlib inline"
   ]
  },
  {
   "cell_type": "code",
   "execution_count": 427,
   "metadata": {
    "collapsed": true
   },
   "outputs": [],
   "source": [
    "#Calculate Expected Value of binomial distribution"
   ]
  },
  {
   "cell_type": "markdown",
   "metadata": {},
   "source": [
    "$$\\mu_X = E(X) = \\sum\\limits_{k=0}^{N}{n \\choose x}p^k (1-p)^{(N-k)} \\frac{k}{N}$$\n",
    "$$\\mu_X = p$$"
   ]
  },
  {
   "cell_type": "code",
   "execution_count": 428,
   "metadata": {
    "collapsed": false
   },
   "outputs": [
    {
     "data": {
      "text/plain": [
       "0.69999999999999996"
      ]
     },
     "execution_count": 428,
     "metadata": {},
     "output_type": "execute_result"
    }
   ],
   "source": [
    "from scipy.misc import comb\n",
    "\n",
    "p = .7\n",
    "tot = 0\n",
    "N = 10\n",
    "for k in range(N+1):\n",
    "    tot += comb(N,k)*(p**k)*((1-p)**(N-k))*1.0*k/N\n",
    "tot"
   ]
  },
  {
   "cell_type": "markdown",
   "metadata": {},
   "source": [
    "$$\\mu_X = E(X) = \\sum\\limits_{k=0}^{N}{n \\choose x}p^k (1-p)^{(N-k)} (\\frac{k}{N} - p)^2$$"
   ]
  },
  {
   "cell_type": "code",
   "execution_count": 429,
   "metadata": {
    "collapsed": false
   },
   "outputs": [],
   "source": [
    "'''\n",
    "[wins and losses example], \n",
    "number of wins, \n",
    "number of combinations, \n",
    "probability of number of wins, \n",
    "distance from mean'''\n",
    "result = []\n",
    "\n",
    "for N in range(1,50):\n",
    "    tot = 0\n",
    "    for k in range(N + 1):\n",
    "        x = np.hstack((np.zeros(N-k), np.ones(k)))\n",
    "        #print x, k, comb(N,k), ((p**k)*((1-p)**(N-k))), (1.0*k/N - p)\n",
    "        tot += (comb(N,k)*((p**k)*((1-p)**(N-k))))*(1.0*k/N - p)**2\n",
    "    result.append(tot)"
   ]
  },
  {
   "cell_type": "markdown",
   "metadata": {},
   "source": [
    "'''\n",
    "Alternatively\n",
    "'''"
   ]
  },
  {
   "cell_type": "markdown",
   "metadata": {},
   "source": [
    "\n",
    " \n",
    "Theorem. Suppose $$X_1, X_2, ... , X_n$$ are n independent random variables with means $$\\mu_1,\\mu_2,⋯,\\mu_n $$and variances $$\\sigma_1,\\sigma_2,⋯,\\sigma_n $$. \n",
    "\n",
    "Then, the mean and variance of the linear combination $$Y = \\sum\\limits_{i=1}^{n} a_i X_i$$, where a1, a2, ... , an are real constants are:\n",
    "\n",
    "$$\\mu_Y = \\sum\\limits_{i=1}^{n} a_i \\mu_i$$and:\n",
    "\n",
    "$$\\sigma^2_Y = \\sum\\limits_{i=1}^{n} a^2_i \\sigma^2_i$$\n",
    "\n",
    "respectively."
   ]
  },
  {
   "cell_type": "code",
   "execution_count": 430,
   "metadata": {
    "collapsed": false
   },
   "outputs": [],
   "source": [
    "# above equation, ai = 1/n, sigma is p*(1-p).  All factor out of summation.  Summation reduces to n\n",
    "#becomes p*(1-p)/n\n",
    "result2 = 1.0*p*(1-p)/np.array(range(1,50))"
   ]
  },
  {
   "cell_type": "code",
   "execution_count": 431,
   "metadata": {
    "collapsed": false
   },
   "outputs": [
    {
     "data": {
      "text/plain": [
       "[<matplotlib.lines.Line2D at 0x1102ce9d0>]"
      ]
     },
     "execution_count": 431,
     "metadata": {},
     "output_type": "execute_result"
    },
    {
     "data": {
      "image/png": "[encoded data removed]",
      "text/plain": [
       "<matplotlib.figure.Figure at 0x1102cec90>"
      ]
     },
     "metadata": {},
     "output_type": "display_data"
    }
   ],
   "source": [
    "plt.plot(result)\n",
    "plt.plot(result2)"
   ]
  },
  {
   "cell_type": "code",
   "execution_count": 423,
   "metadata": {
    "collapsed": false
   },
   "outputs": [
    {
     "data": {
      "text/plain": [
       "0.21000000000000002"
      ]
     },
     "execution_count": 423,
     "metadata": {},
     "output_type": "execute_result"
    }
   ],
   "source": [
    "p*(1-p)"
   ]
  },
  {
   "cell_type": "code",
   "execution_count": null,
   "metadata": {
    "collapsed": true
   },
   "outputs": [],
   "source": []
  }
 ],
 "metadata": {
  "anaconda-cloud": {},
  "kernelspec": {
   "display_name": "Python [Root]",
   "language": "python",
   "name": "Python [Root]"
  },
  "language_info": {
   "codemirror_mode": {
    "name": "ipython",
    "version": 2
   },
   "file_extension": ".py",
   "mimetype": "text/x-python",
   "name": "python",
   "nbconvert_exporter": "python",
   "pygments_lexer": "ipython2",
   "version": "2.7.12"
  }
 },
 "nbformat": 4,
 "nbformat_minor": 0
}
