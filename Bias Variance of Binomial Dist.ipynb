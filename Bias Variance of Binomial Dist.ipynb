{
 "cells": [
  {
   "cell_type": "markdown",
   "metadata": {},
   "source": [
    "#  Democracy of the Trees: How Ensemble Methods Reduce Variance in Decision Forests\n",
    "\n",
    "## Eric Hullander\n",
    "\n",
    "<figure>\n",
    "          <img src = 'https://poetkatehutchinson.files.wordpress.com/2012/09/treebeard1.jpg'              style=\"width:300px;height:300px\" align = left>\n",
    "</figure>"
   ]
  },
  {
   "cell_type": "markdown",
   "metadata": {},
   "source": [
    "#### “Side? I am on nobody's side, because nobody is on my side, little orc.”  - Treebeard"
   ]
  },
  {
   "cell_type": "markdown",
   "metadata": {},
   "source": [
    "Given a dataset and a target variable, there are many methods for finding a mapping (model) between the dataset and the target variable, and in the discipline of machine learning this process is called ‘supervised learning’.  There are two types of supervised learning, regression when our target is numerical, and classification when our target variable is categorical. Among these, there are many types of learners and each learner has its own set of strengths and weaknesses. Some attributes we would like our learner to have are: \n",
    "\n",
    "#### Qualities of a good Learner\n",
    "\n",
    "-\tInterpretability: Why did the model choose this result?  \n",
    "-\tAccuracy:   \n",
    "    -\tAre the predictions correct?   \n",
    "    -\tDo the results generalize to new data?  \n",
    "-\tEfficiency:   \n",
    "    -\tHow long does it take to train this model?  \n",
    "    -\tDoes it require lots of data  \n",
    "-\tDimensionality:   \n",
    "    -\tRobust to Irrelevancy: Do we have to perform feature selection or reduce dimensionality to obtain a good model?  \n",
    "    -\tRobust to Collinearity: Will collinear variables compromise accuracy or interpretability?  \n",
    "-\tRobust to Scaling:  Will scaling or transforming the data affect the results?  \n",
    "\n",
    "Unfortunately, we cannot always get everything we want, so when choosing a learner we must ask what kind of data we have and what questions we are trying to answer.\n",
    "\n",
    "#### The decision trees have many of these qualities.  [1]\n",
    "\n",
    "- Interpretability: We can see where splits are made \n",
    "- Accuracy: Decision trees are accurate on average (low bias), but highly dependent on the sample (high variance).  So they cannot be trusted on an individual basis\n",
    "- Efficiency:  Greedy algorithm is O(C n log n) where C are number of features and n are number of samples.\n",
    "- Robust to Dimensionality:  Dimensionality does not compromise accuracy\n",
    "- Robust to Irrelevancy: Trees perform automatic feature selection based on GINI impurity or information gain.  Irrelevant features just aren’t used\n",
    "- Robust to Collinearity: If two variables are collinear, the can use one or the other making one of the two unimportant to the model when they are equally important\n",
    "- Robust to Scaling:  Scaling and many transformations e.g. log(x) would not affect where the tree splits if using GINI impurity or information gain."
   ]
  },
  {
   "cell_type": "markdown",
   "metadata": {},
   "source": [
    "<img src = \"http://i.stack.imgur.com/r7QFy.png\" style=\"width:300px;height:300px\" align = left>"
   ]
  },
  {
   "cell_type": "markdown",
   "metadata": {},
   "source": [
    "Look at the upper right target in Fig. 1 and imagine these points were obtained by looking at the predictions, $X_i$ of *n* different trees. Let's assume that these trees are i.i.d, i.e. *independant and identically distributed* and have a mean accuracy *p*.  This accuracy may be high (low bias), but the spread of the predictions appear to still be wide (high variance). We may calculate this variance by asking about what the probability mass function (pmf) of this process looks like.  Since we constrained the trees to be independent, we can easily calculate the probability of combinations of successes and failures.  For example, the probability that all *n* trees are correct is $$p^n$$ while the probability that all *n* trees are incorrect is  $$(1-p)^n$$ in general,the probability of *k* trees being correct is $${n \\choose k}p^k (1-p)^{(n-k)}$$  This is a binomial distribution.  \n",
    "\n",
    "Not being satisfied with a bunch of weak predictors, we ask what happens if we ensemble our trees by simply averaging the results?  $$Y = \\sum\\limits_{i=0}^{n}\\frac{1}{n}X_i$$  We know on average the accuracy of *Y* is *p*, by definition, but what if we repeated this averaging process, what would happen to the variance?  We need to know the pmf of Y.  So the question becomes \"What is the probability that our predictor has an accuracy of $p'$?\"  Rather than \"what is the proabibilty *k* out of *n* trees was correct?\"  This effectively scales and sharpens the binomial distribution around the mean.  Below we plot these distributions and then scale them by the maximum value.  As can be seen, as the number of estimators that are averaged together increases, the sharper the distribution around the mean.  Our ensemble has less variance than the individual trees themselves\n"
   ]
  },
  {
   "cell_type": "code",
   "execution_count": 50,
   "metadata": {
    "collapsed": true
   },
   "outputs": [],
   "source": [
    "import numpy as np\n",
    "import matplotlib.pyplot as plt\n",
    "%matplotlib inline"
   ]
  },
  {
   "cell_type": "code",
   "execution_count": 74,
   "metadata": {
    "collapsed": false
   },
   "outputs": [
    {
     "data": {
      "image/png": "[encoded data removed]",
      "text/plain": [
       "<matplotlib.figure.Figure at 0x113078510>"
      ]
     },
     "metadata": {},
     "output_type": "display_data"
    }
   ],
   "source": [
    "from scipy.misc import comb\n",
    "for n in xrange(1,5):\n",
    "    x = []\n",
    "    y = []\n",
    "    p = .05\n",
    "    tot = 0\n",
    "    #N is number of trees\n",
    "    N = 75*n\n",
    "    #k is number of correct trees\n",
    "    for k in xrange(0,N+1):\n",
    "        x.append(1.0*k/N)\n",
    "        y.append(comb(N,k)*(p**k)*((1-p)**(N-k)))\n",
    "    #y = y/np.max(y)\n",
    "    plt.plot(x,y, label = N)\n",
    "    plt.legend()"
   ]
  },
  {
   "cell_type": "markdown",
   "metadata": {},
   "source": [
    "\n",
    " \n",
    "Theorem. Suppose $$X_1, X_2, ... , X_n$$ are n independent random variables with means $$\\mu_1,\\mu_2,⋯,\\mu_n $$and variances $$\\sigma_1,\\sigma_2,⋯,\\sigma_n $$. \n",
    "\n",
    "Then, the mean and variance of the linear combination $$Y = \\sum\\limits_{i=1}^{n} a_i X_i$$, where a1, a2, ... , an are real constants are:\n",
    "\n",
    "$$\\mu_Y = \\sum\\limits_{i=1}^{n} a_i \\mu_i$$and:\n",
    "\n",
    "$$\\sigma^2_Y = \\sum\\limits_{i=1}^{n} a^2_i \\sigma^2_i$$\n",
    "\n",
    "Substituting $a_i= \\frac{1}{n}$ and $\\sigma_i = \\sigma_X$, because iid, gives\n",
    "\n",
    "$$\\sigma^2_Y = \\frac{\\sigma^2_X}{n}$$\n",
    "\n",
    "Alternatively we can calculate the variance outright\n",
    "\n",
    "\n",
    "\n",
    "$$\\sigma^2_Y = var(Y) = \\sum\\limits_{k=0}^{n}{n \\choose k}p^k (1-p)^{(n-k)} (\\frac{k}{n} - p)^2$$"
   ]
  },
  {
   "cell_type": "markdown",
   "metadata": {
    "collapsed": true
   },
   "source": [
    "Below we plot variance on the y axis and number of trees on the x axis to show that these methods produce the same results"
   ]
  },
  {
   "cell_type": "code",
   "execution_count": 67,
   "metadata": {
    "collapsed": false
   },
   "outputs": [],
   "source": [
    "'''\n",
    "[wins and losses example], \n",
    "number of wins, \n",
    "number of combinations, \n",
    "probability of number of wins, \n",
    "distance from mean'''\n",
    "result = []\n",
    "\n",
    "for N in range(1,50):\n",
    "    tot = 0\n",
    "    for k in range(N + 1):\n",
    "        x = np.hstack((np.zeros(N-k), np.ones(k)))\n",
    "        #print x, k, comb(N,k), ((p**k)*((1-p)**(N-k))), (1.0*k/N - p)\n",
    "        tot += (comb(N,k)*((p**k)*((1-p)**(N-k))))*(1.0*k/N - p)**2\n",
    "    result.append(tot)"
   ]
  },
  {
   "cell_type": "code",
   "execution_count": 68,
   "metadata": {
    "collapsed": false
   },
   "outputs": [],
   "source": [
    "# above equation, ai = 1/n, sigma is p*(1-p).  All factor out of summation.  Summation reduces to n\n",
    "#becomes p*(1-p)/n\n",
    "result2 = 1.0*p*(1-p)/np.array(range(1,50))"
   ]
  },
  {
   "cell_type": "code",
   "execution_count": 70,
   "metadata": {
    "collapsed": false
   },
   "outputs": [
    {
     "data": {
      "text/plain": [
       "<matplotlib.text.Text at 0x111f13810>"
      ]
     },
     "execution_count": 70,
     "metadata": {},
     "output_type": "execute_result"
    },
    {
     "data": {
      "image/png": "[encoded data removed]",
      "text/plain": [
       "<matplotlib.figure.Figure at 0x1133b3990>"
      ]
     },
     "metadata": {},
     "output_type": "display_data"
    }
   ],
   "source": [
    "plt.plot(result)\n",
    "plt.plot(result2)\n",
    "plt.xlabel('number of trees')\n",
    "plt.ylabel('variance')"
   ]
  },
  {
   "cell_type": "markdown",
   "metadata": {
    "collapsed": true
   },
   "source": [
    "If this sounds like the central limit theorem, it is no coincidence.  In fact it can be shown that as N grows large, the binomial distribution converges to the normal distribution.  "
   ]
  }
 ],
 "metadata": {
  "anaconda-cloud": {},
  "kernelspec": {
   "display_name": "Python [Root]",
   "language": "python",
   "name": "Python [Root]"
  },
  "language_info": {
   "codemirror_mode": {
    "name": "ipython",
    "version": 2
   },
   "file_extension": ".py",
   "mimetype": "text/x-python",
   "name": "python",
   "nbconvert_exporter": "python",
   "pygments_lexer": "ipython2",
   "version": "2.7.12"
  }
 },
 "nbformat": 4,
 "nbformat_minor": 0
}
